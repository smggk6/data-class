{
 "cells": [
  {
   "cell_type": "code",
   "execution_count": 225,
   "metadata": {},
   "outputs": [],
   "source": [
    "import requests"
   ]
  },
  {
   "cell_type": "code",
   "execution_count": 226,
   "metadata": {},
   "outputs": [],
   "source": [
    "from bs4 import BeautifulSoup"
   ]
  },
  {
   "cell_type": "code",
   "execution_count": 227,
   "metadata": {},
   "outputs": [],
   "source": [
    "#the param \"max_rows\" exists on the back end of the server, but is not visible to front end users of the server\n",
    "url = 'https://report.boonecountymo.org/mrcjava/servlet/RMS01_MP.I00030s?max_rows=1000000'\n",
    "url2 = 'https://report.boonecountymo.org/mrcjava/servlet/RMS01_MP.I00030s'\n",
    "url3 = 'https://report.boonecountymo.org/mrcjava/servlet/'"
   ]
  },
  {
   "cell_type": "code",
   "execution_count": 228,
   "metadata": {},
   "outputs": [],
   "source": [
    "#r = requests.get(url, headers={'user-agent': \"friend\"})"
   ]
  },
  {
   "cell_type": "code",
   "execution_count": 229,
   "metadata": {},
   "outputs": [],
   "source": [
    "#post_response = requests.post(url, data={'val_lastname':'A'})"
   ]
  },
  {
   "cell_type": "code",
   "execution_count": 230,
   "metadata": {},
   "outputs": [],
   "source": [
    "#r.status_code"
   ]
  },
  {
   "cell_type": "code",
   "execution_count": 231,
   "metadata": {},
   "outputs": [],
   "source": [
    "#type(r.text)"
   ]
  },
  {
   "cell_type": "code",
   "execution_count": 232,
   "metadata": {},
   "outputs": [],
   "source": [
    "#r.text"
   ]
  },
  {
   "cell_type": "code",
   "execution_count": 233,
   "metadata": {},
   "outputs": [],
   "source": [
    "#r.headers"
   ]
  },
  {
   "cell_type": "code",
   "execution_count": 234,
   "metadata": {},
   "outputs": [],
   "source": [
    "payload_dict = {'val_lastname': \"\",\n",
    "                'rls_lastname': \"CO\", \n",
    "                'val_firstname': \"\",\n",
    "                'rls_firstname': \"CO\",\n",
    "                'btn_next': \"1\",\n",
    "                'slnk': \"0\",\n",
    "                'sort_col': \"lastname\",\n",
    "                'sort_typ': \"1\",\n",
    "                'cur_sort_col': \"\",\n",
    "                'reorder': \"N\",\n",
    "                'pageName': \"\",\n",
    "                'preview': \"0\",\n",
    "                'debug': \"0\",\n",
    "                'pageNum': \"2\",\n",
    "                'total_page': \"4\",\n",
    "                'total_rows': \"186\",\n",
    "                'ajax_form': \"0\",\n",
    "                'auto_refresh': \"0\",\n",
    "                'excel': \"0\",\n",
    "                'use_udview': \"0\",\n",
    "               }"
   ]
  },
  {
   "cell_type": "code",
   "execution_count": 235,
   "metadata": {},
   "outputs": [],
   "source": [
    "cookies = {'JSESSIONID': 'EA95904A597A88720A31C82D0CB94C94', 'nmstat': '1587497619810'}"
   ]
  },
  {
   "cell_type": "code",
   "execution_count": 236,
   "metadata": {},
   "outputs": [],
   "source": [
    "#r2 = requests.post(url2, headers={'user-agent': \"friend\"}, cookies=cookies, data=payload_dict)"
   ]
  },
  {
   "cell_type": "code",
   "execution_count": 237,
   "metadata": {},
   "outputs": [],
   "source": [
    "#r2.headers"
   ]
  },
  {
   "cell_type": "code",
   "execution_count": 238,
   "metadata": {},
   "outputs": [],
   "source": [
    "#len(r2.text)"
   ]
  },
  {
   "cell_type": "code",
   "execution_count": 239,
   "metadata": {},
   "outputs": [
    {
     "ename": "IndentationError",
     "evalue": "unexpected indent (<ipython-input-239-5215ea17e543>, line 2)",
     "output_type": "error",
     "traceback": [
      "\u001b[0;36m  File \u001b[0;32m\"<ipython-input-239-5215ea17e543>\"\u001b[0;36m, line \u001b[0;32m2\u001b[0m\n\u001b[0;31m    f.write(r.text)\u001b[0m\n\u001b[0m    ^\u001b[0m\n\u001b[0;31mIndentationError\u001b[0m\u001b[0;31m:\u001b[0m unexpected indent\n"
     ]
    }
   ],
   "source": [
    "#with open('pages.html', 'w') as f:\n",
    "    f.write(r.text)"
   ]
  },
  {
   "cell_type": "code",
   "execution_count": null,
   "metadata": {},
   "outputs": [],
   "source": [
    "#with open('test.html', 'w') as f:\n",
    "    f.write(r2.text)"
   ]
  },
  {
   "cell_type": "code",
   "execution_count": null,
   "metadata": {},
   "outputs": [],
   "source": [
    "soup = BeautifulSoup(r.text)"
   ]
  },
  {
   "cell_type": "code",
   "execution_count": null,
   "metadata": {},
   "outputs": [],
   "source": [
    "type(soup)"
   ]
  },
  {
   "cell_type": "code",
   "execution_count": null,
   "metadata": {},
   "outputs": [],
   "source": [
    "dir(soup)"
   ]
  },
  {
   "cell_type": "code",
   "execution_count": 274,
   "metadata": {},
   "outputs": [],
   "source": [
    "tables = soup.find('table', class_=\"collapse data-table shadow responsive\")"
   ]
  },
  {
   "cell_type": "code",
   "execution_count": 275,
   "metadata": {},
   "outputs": [
    {
     "data": {
      "text/plain": [
       "bs4.element.Tag"
      ]
     },
     "execution_count": 275,
     "metadata": {},
     "output_type": "execute_result"
    }
   ],
   "source": [
    "type(tables)"
   ]
  },
  {
   "cell_type": "code",
   "execution_count": null,
   "metadata": {},
   "outputs": [],
   "source": [
    "dir(tables)"
   ]
  },
  {
   "cell_type": "code",
   "execution_count": null,
   "metadata": {},
   "outputs": [],
   "source": [
    "print(tables)"
   ]
  },
  {
   "cell_type": "code",
   "execution_count": null,
   "metadata": {},
   "outputs": [],
   "source": [
    "th_all = tables.find('thead').find_all('th')[1:10]"
   ]
  },
  {
   "cell_type": "code",
   "execution_count": null,
   "metadata": {},
   "outputs": [],
   "source": [
    "len(th_all)"
   ]
  },
  {
   "cell_type": "code",
   "execution_count": null,
   "metadata": {},
   "outputs": [],
   "source": [
    "print(th_all)"
   ]
  },
  {
   "cell_type": "code",
   "execution_count": null,
   "metadata": {},
   "outputs": [],
   "source": [
    "headers = []\n",
    "\n",
    "for th in th_all:\n",
    "    #header = th.text.strip().replace(' ', '_').lower()\n",
    "    #headers.append(header)"
   ]
  },
  {
   "cell_type": "code",
   "execution_count": null,
   "metadata": {},
   "outputs": [],
   "source": [
    "headers"
   ]
  },
  {
   "cell_type": "code",
   "execution_count": null,
   "metadata": {},
   "outputs": [],
   "source": [
    "tr_all = tables.find_all('tr', class_=(\"odd\", \"even\"))"
   ]
  },
  {
   "cell_type": "code",
   "execution_count": null,
   "metadata": {},
   "outputs": [],
   "source": [
    "len(tr_all)"
   ]
  },
  {
   "cell_type": "code",
   "execution_count": null,
   "metadata": {},
   "outputs": [],
   "source": [
    "tr_all"
   ]
  },
  {
   "cell_type": "code",
   "execution_count": null,
   "metadata": {},
   "outputs": [],
   "source": [
    "def clean_row(tds):\n",
    "    row = {\n",
    "       'last_name': tds[0].text.strip(),\n",
    "        'first_name': tds[1].text.strip(),\n",
    "        'middle_name': tds[2].text.strip(),\n",
    "        'suffix': tds[3].text.strip(),\n",
    "        'sex': tds[4].text.strip(),\n",
    "        'race': tds[5].text.strip(),\n",
    "        'age': tds[6].text.strip(),\n",
    "        'city': tds[7].text.strip(),\n",
    "        'state': tds[8].text.strip(),\n",
    "        'details_url': tds[9].find('a').attrs['href']\n",
    "        \n",
    "    }\n",
    "    #return row"
   ]
  },
  {
   "cell_type": "code",
   "execution_count": null,
   "metadata": {},
   "outputs": [],
   "source": [
    "#rows = []\n",
    "\n",
    "#for tr in tr_all:\n",
    "    #tds = tr.find_all('td')\n",
    "    #row = clean_row(tds)\n",
    "    #rows.append(row)"
   ]
  },
  {
   "cell_type": "code",
   "execution_count": null,
   "metadata": {},
   "outputs": [],
   "source": [
    "#len(rows)"
   ]
  },
  {
   "cell_type": "code",
   "execution_count": null,
   "metadata": {},
   "outputs": [],
   "source": [
    "#print(rows)"
   ]
  },
  {
   "cell_type": "code",
   "execution_count": null,
   "metadata": {},
   "outputs": [],
   "source": [
    "#import csv"
   ]
  },
  {
   "cell_type": "code",
   "execution_count": null,
   "metadata": {},
   "outputs": [],
   "source": [
    "#len(rows)"
   ]
  },
  {
   "cell_type": "code",
   "execution_count": null,
   "metadata": {},
   "outputs": [],
   "source": [
    "#rows[0].keys()"
   ]
  },
  {
   "cell_type": "code",
   "execution_count": null,
   "metadata": {},
   "outputs": [],
   "source": [
    "#with open('inmates.csv', 'w', newline='') as f:\n",
    "    #writer = csv.DictWriter(\n",
    "            #f, fieldnames=rows[0].keys()\n",
    "    )\n",
    "    #writer.writeheader()\n",
    "    #for row in rows:\n",
    "        #writer.writerow(row)"
   ]
  },
  {
   "cell_type": "code",
   "execution_count": null,
   "metadata": {},
   "outputs": [],
   "source": [
    "#page = rows[0]['details_url']"
   ]
  },
  {
   "cell_type": "code",
   "execution_count": null,
   "metadata": {},
   "outputs": [],
   "source": [
    "#Before I realized the HTML for all inmates was contained in a single GET, I planned on using \"mugs\"\n",
    "mugs = url3 + (rows[0]['details_url'])"
   ]
  },
  {
   "cell_type": "code",
   "execution_count": 240,
   "metadata": {},
   "outputs": [],
   "source": [
    "#print(mugs)\n",
    "    "
   ]
  },
  {
   "cell_type": "code",
   "execution_count": 241,
   "metadata": {},
   "outputs": [],
   "source": [
    "#r3 = requests.get(mugs, headers={'user-agent': \"friend\"})"
   ]
  },
  {
   "cell_type": "code",
   "execution_count": 242,
   "metadata": {},
   "outputs": [],
   "source": [
    "#with open('test.html', 'w') as f:\n",
    "    #f.write(r3.text)"
   ]
  },
  {
   "cell_type": "code",
   "execution_count": 243,
   "metadata": {},
   "outputs": [],
   "source": [
    "soup3 = BeautifulSoup(r3.text)"
   ]
  },
  {
   "cell_type": "code",
   "execution_count": 244,
   "metadata": {},
   "outputs": [
    {
     "data": {
      "text/plain": [
       "bs4.BeautifulSoup"
      ]
     },
     "execution_count": 244,
     "metadata": {},
     "output_type": "execute_result"
    }
   ],
   "source": [
    "type(soup3)"
   ]
  },
  {
   "cell_type": "code",
   "execution_count": 245,
   "metadata": {},
   "outputs": [],
   "source": [
    "names = soup3.find_all('div', class_='inmateName')"
   ]
  },
  {
   "cell_type": "code",
   "execution_count": 272,
   "metadata": {},
   "outputs": [
    {
     "data": {
      "text/plain": [
       "bs4.element.ResultSet"
      ]
     },
     "execution_count": 272,
     "metadata": {},
     "output_type": "execute_result"
    }
   ],
   "source": [
    "type(names)"
   ]
  },
  {
   "cell_type": "code",
   "execution_count": 247,
   "metadata": {},
   "outputs": [],
   "source": [
    "#table3 = soup3.find_all('table')"
   ]
  },
  {
   "cell_type": "code",
   "execution_count": 248,
   "metadata": {},
   "outputs": [],
   "source": [
    "#Cannot do further 'find' functions on a ResultSet. Need to run a for loop. \n",
    "#type(table3)"
   ]
  },
  {
   "cell_type": "code",
   "execution_count": 249,
   "metadata": {},
   "outputs": [],
   "source": [
    "#len(table3)"
   ]
  },
  {
   "cell_type": "code",
   "execution_count": 250,
   "metadata": {},
   "outputs": [],
   "source": [
    "#print(table3[0])"
   ]
  },
  {
   "cell_type": "code",
   "execution_count": 278,
   "metadata": {},
   "outputs": [],
   "source": [
    "table3 = soup3.find_all('table')\n",
    "\n",
    "    "
   ]
  },
  {
   "cell_type": "code",
   "execution_count": 269,
   "metadata": {},
   "outputs": [],
   "source": [
    "thead_all3 = []\n",
    "for table in table3:\n",
    "        theads3 = table.find('thead')\n",
    "        thead_all3.append(theads3)"
   ]
  },
  {
   "cell_type": "code",
   "execution_count": 270,
   "metadata": {},
   "outputs": [],
   "source": [
    "th_all3 = []\n",
    "for th in th_all3:\n",
    "    th3 = th.find('th')\n",
    "    th_all3.append(th3)"
   ]
  },
  {
   "cell_type": "code",
   "execution_count": 271,
   "metadata": {},
   "outputs": [
    {
     "data": {
      "text/plain": [
       "0"
      ]
     },
     "execution_count": 271,
     "metadata": {},
     "output_type": "execute_result"
    }
   ],
   "source": [
    "len(th_all3)"
   ]
  },
  {
   "cell_type": "code",
   "execution_count": 277,
   "metadata": {},
   "outputs": [
    {
     "data": {
      "text/plain": [
       "<table cellspacing=\"0\" class=\"collapse centered_table shadow\">\n",
       "<tbody class=\"single\" id=\"mrc_main_table\">\n",
       "<tr>\n",
       "<td class=\"one td_left\" nowrap=\"nowrap\"><b>HEIGHT</b></td>\n",
       "<td class=\"two td_left\" nowrap=\"nowrap\">5ft 4in</td>\n",
       "</tr> <tr>\n",
       "<td class=\"one td_left\" nowrap=\"nowrap\"><b>WEIGHT</b></td>\n",
       "<td class=\"two td_left\" nowrap=\"nowrap\">110</td>\n",
       "</tr> <tr>\n",
       "<td class=\"one td_left\" nowrap=\"nowrap\"><b>SEX</b></td>\n",
       "<td class=\"two td_left\" nowrap=\"nowrap\">M</td>\n",
       "</tr> <tr>\n",
       "<td class=\"one td_left\" nowrap=\"nowrap\"><b>EYES</b></td>\n",
       "<td class=\"two td_left\" nowrap=\"nowrap\">BROWN</td>\n",
       "</tr> <tr>\n",
       "<td class=\"one td_left\" nowrap=\"nowrap\"><b>HAIR</b></td>\n",
       "<td class=\"two td_left\" nowrap=\"nowrap\">BLACK</td>\n",
       "</tr> <tr>\n",
       "<td class=\"one td_left\" nowrap=\"nowrap\"><b>RACE</b></td>\n",
       "<td class=\"two td_left\" nowrap=\"nowrap\">B</td>\n",
       "</tr> <tr>\n",
       "<td class=\"one td_left\" nowrap=\"nowrap\"><b>AGE</b></td>\n",
       "<td class=\"two td_left\" nowrap=\"nowrap\">32</td>\n",
       "</tr> <tr>\n",
       "<td class=\"one td_left\" nowrap=\"nowrap\"><b>CITY</b></td>\n",
       "<td class=\"two td_left\" nowrap=\"nowrap\">COLUMBIA</td>\n",
       "</tr> <tr>\n",
       "<td class=\"one td_left\" nowrap=\"nowrap\"><b>STATE</b></td>\n",
       "<td class=\"two td_left\" nowrap=\"nowrap\">MO</td>\n",
       "</tr>\n",
       "</tbody>\n",
       "</table>"
      ]
     },
     "execution_count": 277,
     "metadata": {},
     "output_type": "execute_result"
    }
   ],
   "source": [
    "table3"
   ]
  },
  {
   "cell_type": "code",
   "execution_count": 260,
   "metadata": {},
   "outputs": [
    {
     "data": {
      "text/plain": [
       "[]"
      ]
     },
     "execution_count": 260,
     "metadata": {},
     "output_type": "execute_result"
    }
   ],
   "source": []
  },
  {
   "cell_type": "code",
   "execution_count": null,
   "metadata": {},
   "outputs": [],
   "source": []
  }
 ],
 "metadata": {
  "kernelspec": {
   "display_name": "Python 3",
   "language": "python",
   "name": "python3"
  },
  "language_info": {
   "codemirror_mode": {
    "name": "ipython",
    "version": 3
   },
   "file_extension": ".py",
   "mimetype": "text/x-python",
   "name": "python",
   "nbconvert_exporter": "python",
   "pygments_lexer": "ipython3",
   "version": "3.8.2"
  }
 },
 "nbformat": 4,
 "nbformat_minor": 4
}
