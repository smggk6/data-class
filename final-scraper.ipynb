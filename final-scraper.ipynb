{
 "cells": [
  {
   "cell_type": "code",
   "execution_count": 21,
   "metadata": {},
   "outputs": [],
   "source": [
    "import requests\n",
    "from bs4 import BeautifulSoup\n",
    "from datetime import timedelta\n",
    "import requests_cache\n",
    "import csv"
   ]
  },
  {
   "cell_type": "code",
   "execution_count": 6,
   "metadata": {},
   "outputs": [],
   "source": [
    "home_url = 'https://report.boonecountymo.org/mrcjava/servlet/RMS01_MP.I00030s?max_rows=1000000'\n",
    "mug_url = 'https://report.boonecountymo.org/mrcjava/servlet/RMS01_MP.R00040s?run=2&R001=&R002=&ID=3641&hover_redir=&width=950'"
   ]
  },
  {
   "cell_type": "code",
   "execution_count": 7,
   "metadata": {},
   "outputs": [],
   "source": [
    "def clean_home(tds):\n",
    "    row = {\n",
    "       'last_name': tds[0].text.strip(),\n",
    "        'first_name': tds[1].text.strip(),\n",
    "        'middle_name': tds[2].text.strip(),\n",
    "        'suffix': tds[3].text.strip(),\n",
    "        'sex': tds[4].text.strip(),\n",
    "        'race': tds[5].text.strip(),\n",
    "        'age': tds[6].text.strip(),\n",
    "        'city': tds[7].text.strip(),\n",
    "        'state': tds[8].text.strip(),\n",
    "        'details_url': tds[9].find('a').attrs['href']\n",
    "        \n",
    "    }\n",
    "    return row"
   ]
  },
  {
   "cell_type": "code",
   "execution_count": 8,
   "metadata": {},
   "outputs": [],
   "source": [
    "def clean_mugs(table):\n",
    "    tds = table.find_all('td', class_='two td_left')   \n",
    "    data = {\n",
    "        'height': tds[0].text.strip().replace(' ', '_'),\n",
    "        'weight': tds[1].text.strip(),\n",
    "        'sex': tds[2].text.strip(),\n",
    "        'eyes': tds[3].text.strip(),\n",
    "        'hair': tds[4].text.strip(),\n",
    "        'race': tds[5].text.strip(),\n",
    "        'age': tds[6].text.strip(),\n",
    "        'city': tds[7].text.strip().replace(' ', '_'),\n",
    "        'state': tds[8].text.strip().replace(' ', '_') \n",
    "    }    \n",
    "    return data"
   ]
  },
  {
   "cell_type": "code",
   "execution_count": 9,
   "metadata": {},
   "outputs": [],
   "source": [
    "def error(table):\n",
    "    tds = table.find_all('td', class_='two td_left')   \n",
    "    data = {\n",
    "        'height': tds[0].text.strip().replace(' ', '_'),\n",
    "        'weight': tds[1].text.strip(),\n",
    "        'sex': tds[2].text.strip(),\n",
    "        'eyes': tds[3].text.strip(),\n",
    "        'race': tds[4].text.strip(),\n",
    "        'age': tds[5].text.strip(),\n",
    "        'city': tds[6].text.strip().replace(' ', '_'),\n",
    "        'state': tds[7].text.strip().replace(' ', '_') \n",
    "    }    \n",
    "    return data"
   ]
  },
  {
   "cell_type": "code",
   "execution_count": 10,
   "metadata": {},
   "outputs": [],
   "source": [
    "def error2(table):\n",
    "    tds = table.find_all('td', class_='two td_left')   \n",
    "    data = {\n",
    "        'height': tds[0].text.strip().replace(' ', '_'),\n",
    "        'weight': tds[1].text.strip(),\n",
    "        'sex': tds[2].text.strip(),\n",
    "        'race': tds[3].text.strip(),\n",
    "        'age': tds[4].text.strip(),\n",
    "        'city': tds[5].text.strip().replace(' ', '_'),\n",
    "        'state': tds[6].text.strip().replace(' ', '_') \n",
    "    }    \n",
    "    return data"
   ]
  },
  {
   "cell_type": "code",
   "execution_count": 11,
   "metadata": {},
   "outputs": [],
   "source": [
    "def error3(table):\n",
    "    tds = table.find_all('td', class_='two td_left')   \n",
    "    data = {\n",
    "        'sex': tds[0].text.strip(),\n",
    "        'race': tds[1].text.strip(),\n",
    "        'age': tds[2].text.strip(),\n",
    "        'city': tds[3].text.strip().replace(' ', '_'),\n",
    "        'state': tds[4].text.strip().replace(' ', '_') \n",
    "    }    \n",
    "    return data"
   ]
  },
  {
   "cell_type": "code",
   "execution_count": 12,
   "metadata": {},
   "outputs": [],
   "source": [
    "def clean_charges(charge_table):\n",
    "    charge_tbody = charge_table.find('tbody')\n",
    "    charge_trs = charge_tbody.find_all('tr')\n",
    "    for charge_tr in charge_trs:\n",
    "        charge_tds = charge_tr.find_all('td')\n",
    "        charge_data = {\n",
    "            charge_heads[0]: charge_tds[0].text.strip().replace(' ', '_').lower(),\n",
    "            charge_heads[1]: charge_tds[1].text.strip().replace(' ', '_').lower(),\n",
    "            charge_heads[2]: charge_tds[2].text.strip().replace(' ', '_').lower(),\n",
    "            charge_heads[3]: charge_tds[3].text.strip().replace(' ', '_').lower(),\n",
    "            charge_heads[4]: charge_tds[4].text.strip().replace(' ', '_').lower(),\n",
    "            charge_heads[5]: charge_tds[5].text.strip().replace(' ', '_').lower(),\n",
    "            charge_heads[6]: charge_tds[6].text.strip().replace(' ', '_').lower(),\n",
    "            charge_heads[7]: charge_tds[7].text.strip().replace(' ', '_').lower()\n",
    "        }\n",
    "        finalcharges.append(charge_data)\n",
    "    return final_charges"
   ]
  },
  {
   "cell_type": "code",
   "execution_count": 27,
   "metadata": {},
   "outputs": [],
   "source": [
    "def homescrape(table):\n",
    "    r = requests.get(home_url, headers={'user-agent': \"friend\"})\n",
    "    r.status_code\n",
    "    if r.status_code == 200:\n",
    "        soup = BeautifulSoup(r.text)\n",
    "        table = soup.find('table', class_=\"collapse data-table shadow responsive\")\n",
    "        trs = tables.find_all('tr', class_=(\"odd\", \"even\"))\n",
    "        homerows = []\n",
    "        for tr in trs:\n",
    "            tds = tr.find_all('td')\n",
    "            row = clean_home(tds)\n",
    "            homerows.append(row)\n",
    "        return homerows\n",
    "    else:\n",
    "        print('website dead, sir! Man battle stations!')"
   ]
  },
  {
   "cell_type": "code",
   "execution_count": 28,
   "metadata": {},
   "outputs": [],
   "source": [
    "def mugscrape(table):\n",
    "    r2 = requests.get(mug_url, headers={'user-agent': \"friend\"})\n",
    "    r2.status_code\n",
    "    if r2.status_code == 200:\n",
    "        mugshotdivs = soup.find_all(class_='mugshotDiv')\n",
    "        detaineeinfo = []\n",
    "        for div in mugshotdivs:\n",
    "            table = div.find('table')\n",
    "            try:\n",
    "                data = clean_mugs(table)\n",
    "            except IndexError:\n",
    "                try:\n",
    "                    data = error(table)\n",
    "                except IndexError:\n",
    "                    try:\n",
    "                        data = error2(table)\n",
    "                    except IndexError:\n",
    "                        data = error3(table)\n",
    "        detaineeinfo.append(data)\n",
    "        return detaineeinfo\n",
    "    else:\n",
    "        print('website dead, sir! Man the battle stations!')\n",
    "    "
   ]
  },
  {
   "cell_type": "code",
   "execution_count": 29,
   "metadata": {},
   "outputs": [],
   "source": [
    "def chargescrape(table):\n",
    "    r2 = requests.get(mug_url, headers={'user-agent': \"friend\"})\n",
    "    r2.status_code\n",
    "    if r2.status_code == 200:\n",
    "        mugshotdivs = soup.find_all(class_='mugshotDiv')\n",
    "        finalcharges = []\n",
    "        for div in mugshotdivs:\n",
    "            charge_table = div.find('table', class_='collapse centered_table shadow responsive')\n",
    "            charge_data = clean_charges(charge_table)\n",
    "        return finalcharges\n",
    "    else:\n",
    "        print('website dead, sir! Man the battle stations!')"
   ]
  },
  {
   "cell_type": "code",
   "execution_count": 31,
   "metadata": {},
   "outputs": [
    {
     "ename": "NameError",
     "evalue": "name 'finalcharges' is not defined",
     "output_type": "error",
     "traceback": [
      "\u001b[0;31m---------------------------------------------------------------------------\u001b[0m",
      "\u001b[0;31mNameError\u001b[0m                                 Traceback (most recent call last)",
      "\u001b[0;32m<ipython-input-31-9160df190e72>\u001b[0m in \u001b[0;36m<module>\u001b[0;34m\u001b[0m\n\u001b[1;32m      1\u001b[0m \u001b[0;32mwith\u001b[0m \u001b[0mopen\u001b[0m\u001b[0;34m(\u001b[0m\u001b[0;34m'finalcharges.csv'\u001b[0m\u001b[0;34m,\u001b[0m \u001b[0;34m'w'\u001b[0m\u001b[0;34m,\u001b[0m \u001b[0mnewline\u001b[0m\u001b[0;34m=\u001b[0m\u001b[0;34m''\u001b[0m\u001b[0;34m)\u001b[0m \u001b[0;32mas\u001b[0m \u001b[0mf\u001b[0m\u001b[0;34m:\u001b[0m\u001b[0;34m\u001b[0m\u001b[0;34m\u001b[0m\u001b[0m\n\u001b[1;32m      2\u001b[0m     writer = csv.DictWriter(\n\u001b[0;32m----> 3\u001b[0;31m             \u001b[0mf\u001b[0m\u001b[0;34m,\u001b[0m \u001b[0mfieldnames\u001b[0m\u001b[0;34m=\u001b[0m\u001b[0mfinalcharges\u001b[0m\u001b[0;34m[\u001b[0m\u001b[0;36m0\u001b[0m\u001b[0;34m]\u001b[0m\u001b[0;34m.\u001b[0m\u001b[0mkeys\u001b[0m\u001b[0;34m(\u001b[0m\u001b[0;34m)\u001b[0m\u001b[0;34m\u001b[0m\u001b[0;34m\u001b[0m\u001b[0m\n\u001b[0m\u001b[1;32m      4\u001b[0m     )\n\u001b[1;32m      5\u001b[0m     \u001b[0mwriter\u001b[0m\u001b[0;34m.\u001b[0m\u001b[0mwriteheader\u001b[0m\u001b[0;34m(\u001b[0m\u001b[0;34m)\u001b[0m\u001b[0;34m\u001b[0m\u001b[0;34m\u001b[0m\u001b[0m\n",
      "\u001b[0;31mNameError\u001b[0m: name 'finalcharges' is not defined"
     ]
    }
   ],
   "source": [
    "\n",
    "    "
   ]
  },
  {
   "cell_type": "code",
   "execution_count": null,
   "metadata": {},
   "outputs": [],
   "source": []
  }
 ],
 "metadata": {
  "kernelspec": {
   "display_name": "Python 3",
   "language": "python",
   "name": "python3"
  },
  "language_info": {
   "codemirror_mode": {
    "name": "ipython",
    "version": 3
   },
   "file_extension": ".py",
   "mimetype": "text/x-python",
   "name": "python",
   "nbconvert_exporter": "python",
   "pygments_lexer": "ipython3",
   "version": "3.8.2"
  }
 },
 "nbformat": 4,
 "nbformat_minor": 4
}
